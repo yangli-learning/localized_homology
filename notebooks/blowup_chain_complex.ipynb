{
 "cells": [
  {
   "cell_type": "code",
   "execution_count": 16,
   "id": "c6cb25b3-7bd5-442f-8e7d-f0d2bef27001",
   "metadata": {},
   "outputs": [],
   "source": [
    "## Compute the persistence homology of blowup chain complex\n",
    "import numpy as np\n",
    "import matplotlib.pyplot as plt\n",
    "import cechmate as cm\n",
    "from persim import plot_diagrams\n",
    "import tadasets\n",
    "import phat\n",
    "import itertools\n",
    "import matplotlib.pyplot as plt\n",
    "\n",
    "#import gudhi\n",
    "from persim.visuals import plot_diagrams"
   ]
  },
  {
   "cell_type": "markdown",
   "id": "5eb36e42-12a4-431d-b05c-69cb1f90b661",
   "metadata": {},
   "source": [
    "# Compute standard persistence\n",
    "Example of computing the global PD of simplicial complex K\n",
    "```\n",
    " K:   0-1-2-3\n",
    "```\n",
    "Copied from the source code of function cm.solver.phat_diagrams(). \n",
    "\n",
    "``` \n",
    "dgm = cm.solver.phat_diagrams(ordered_simplices ,show_inf=True)\n",
    "``` "
   ]
  },
  {
   "cell_type": "code",
   "execution_count": 17,
   "id": "e853d7a6-fa48-40cd-bcc0-402e31e3dd57",
   "metadata": {},
   "outputs": [
    {
     "name": "stdout",
     "output_type": "stream",
     "text": [
      "boundary of each simplex [(0, []), (0, []), (0, []), (0, []), (1, [0, 1]), (1, [1, 2]), (1, [2, 3])]\n",
      "persistence pairs\n",
      "(1, 4)\n",
      "(2, 5)\n",
      "(3, 6)\n",
      "persistence dgm\n",
      "{0: [[0, 0], [0, 0], [0, 0], [0, inf]]}\n"
     ]
    }
   ],
   "source": [
    "\n",
    "# assume all simplices appear at once at t=0\n",
    "ordered_simplices =  [ ([0],0),([1],0),([2],0),([3],0),([0,1],0),([1,2],0),([2,3],0)]\n",
    "\n",
    "## Setup boundary matrix and reduce\n",
    "columns = cm.solver._simplices_to_sparse_pivot_column(ordered_simplices)\n",
    "print(\"boundary of each simplex\",columns)\n",
    "boundary_matrix = phat.boundary_matrix(\n",
    "    columns=columns , representation=phat.representations.sparse_pivot_column\n",
    ")\n",
    "pairs = boundary_matrix.compute_persistence_pairs()\n",
    "pairs.sort() \n",
    "\n",
    "## Setup persistence diagrams by reading off distances\n",
    "dgms = _process_distances(pairs,ordered_simplices,True )\n",
    "print(\"persistence pairs\")\n",
    "for p in pairs:\n",
    "    print(p)\n",
    "\n",
    "dgms = _add_unpaired(dgms, pairs, ordered_simplices)\n",
    "\n",
    "print(\"persistence dgm\")\n",
    "print(dgms)\n"
   ]
  },
  {
   "cell_type": "markdown",
   "id": "73203212-15ab-4252-a917-ff895df347b5",
   "metadata": {},
   "source": [
    "- four persistence pairs identified\n",
    "- only one non-trivial homology classes identified, corresponding to a single connected component \n"
   ]
  },
  {
   "cell_type": "markdown",
   "id": "cd45d991-6e3e-472b-b6b2-5b555db322aa",
   "metadata": {},
   "source": [
    "# "
   ]
  },
  {
   "cell_type": "markdown",
   "id": "8017d2f7-b010-4a54-acf0-5df78891a46f",
   "metadata": {},
   "source": [
    "# Compute localized homology using blowup chain complex"
   ]
  },
  {
   "cell_type": "markdown",
   "id": "7e679e35-5071-4025-82f9-0e7e1bd26a82",
   "metadata": {},
   "source": [
    "## Functions\n",
    "Redefine some functions in cm.solver to compute the blowup chain complex"
   ]
  },
  {
   "cell_type": "code",
   "execution_count": 18,
   "id": "b4702c95-a16a-453f-a65e-d5ae18c503eb",
   "metadata": {},
   "outputs": [],
   "source": [
    "def _process_distances(pairs, ordered_simplices,show_diag=False,cover=None):\n",
    "    \"\"\" Setup persistence diagrams by reading off distances\n",
    "    new options:\n",
    "    - show_diag: keep persistence pairs with birth=death\n",
    "    - cover: a list of length =len(ordered_simplices) to get the subset label of each simplex\n",
    "    \"\"\" \n",
    "    dgms = {}\n",
    "    # identify each simplex as a creator (1) or destroyer (-1)\n",
    "    posneg = np.zeros(len(ordered_simplices))\n",
    "\n",
    "    for [bi, di] in pairs:\n",
    "        bidxs, bd = ordered_simplices[bi]  # get birth time (timestep of the creator)\n",
    "        didxs, dd = ordered_simplices[di]  # get death time (timestep of the corresponding destroyer)\n",
    "        assert posneg[bi] == 0 and posneg[di] == 0\n",
    "        posneg[bi], posneg[di] = 1, -1     # set creator and destroyer\n",
    "\n",
    "        assert dd >= bd\n",
    "        # assert len(bidxs) == len(didxs) - 1\n",
    "\n",
    "        p = len(bidxs) - 1    # get the dimension of this cycle (todo: use dim(sigma)+dim(Deltq) )\n",
    "\n",
    "        if cover:\n",
    "            # Don't add zero persistence pairs\n",
    "            if bd != dd or  show_diag:\n",
    "                dgms.setdefault(p,[]).append( [bd,dd,cover[bi]]) \n",
    "        else:\n",
    "            # Don't add zero persistence pairs\n",
    "            if bd != dd or  show_diag:\n",
    "                dgms.setdefault(p, []).append([bd, dd])  # remove persistence pair if death = birth (on the diagonal)  \n",
    "    return dgms"
   ]
  },
  {
   "cell_type": "code",
   "execution_count": 19,
   "id": "b68c30a7-4f64-4f2f-974b-702bbb56dd5a",
   "metadata": {},
   "outputs": [],
   "source": [
    "def _add_unpaired(dgms, pairs, simplices,cover=None):\n",
    "    posneg = np.zeros(len(simplices))\n",
    "    for [bi, di] in pairs:\n",
    "        assert posneg[bi] == 0\n",
    "        assert posneg[di] == 0\n",
    "        posneg[bi] = 1\n",
    "        posneg[di] = -1\n",
    "\n",
    "    for i in range(len(posneg)):\n",
    "        if posneg[i] == 0:\n",
    "            (idxs, dist) = simplices[i]\n",
    "            p = len(idxs) - 1\n",
    "            if not p in dgms:\n",
    "                dgms[p] = []\n",
    "            if cover:\n",
    "                dgms[p].append([dist, np.inf,cover[i]])\n",
    "            else:\n",
    "                dgms[p].append([dist, np.inf])\n",
    "\n",
    "    return dgms"
   ]
  },
  {
   "cell_type": "code",
   "execution_count": 20,
   "id": "34cff47e-dfbd-4ce0-8c37-6a50f16a3870",
   "metadata": {},
   "outputs": [],
   "source": [
    "\n",
    "def max_non_infinite(numbers):\n",
    "    # Filter out infinite values\n",
    "    finite_numbers = [num for num in numbers if num != float('inf')  ]\n",
    "    if not finite_numbers:\n",
    "        return 10\n",
    "    return max(finite_numbers)\n",
    "    \n",
    "def plotbarcode_BC(dgms,dim,coverlabel2id):\n",
    "    persistence = [ [coverlabel2id[c],(b,d)]  for b,d,c in dgms[dim] ]\n",
    "    labels = [ c for b,d,c in dgms[dim]]\n",
    "    \n",
    "    _, axes = plt.subplots(1, 1,figsize=(4,1.5))\n",
    "    colormap = plt.cm.Set1.colors\n",
    "    print(persistence)\n",
    "    \n",
    "    death = [d for b,d,c in dgms[dim]]\n",
    "    \n",
    "    largest_non_infinite = max_non_infinite( death )\n",
    "    \n",
    "    infinity  = largest_non_infinite*1.5\n",
    "    \n",
    "    x = [birth for (dim, (birth, death)) in persistence]\n",
    "    y = [(death - birth) if death != float(\"inf\") else (infinity - birth) for (dim, (birth, death)) in persistence]\n",
    "    c = [colormap[dim] for (dim, (birth, death)) in persistence]\n",
    "    \n",
    "    axes.barh(range(len(x)), y, left=x, alpha=0.5, color=c, linewidth=0,label=labels)\n",
    "    plt.axvline(x=infinity , color='red', linestyle='--') \n",
    "    #axes.set_xticks(labels)\n",
    "    axes.legend()\n",
    "    axes.set_title(\"Persistence barcode\", fontsize=12)\n",
    "    axes.set_yticks([])   #axes.invert_yaxis()\n",
    "    #xticks = axes.get_xticklabels();    xticks[-1] = '\\inf';axes.set_xticklabels(xticks)\n",
    "    plt.show()"
   ]
  },
  {
   "cell_type": "code",
   "execution_count": 28,
   "id": "6cf31604-8e8b-4712-ad5a-8d2f4f1679d5",
   "metadata": {},
   "outputs": [],
   "source": [
    "def compute_blowup(ordered_simplices, columns,cover ,show_diag=False):\n",
    "    if show_diag:\n",
    "        print('display h classes on diagonal')\n",
    "    coverlabel2id = dict([ (c,i) for i,c in enumerate(set(cover)) ])\n",
    "    ## Setup boundary matrix and reduce\n",
    "\n",
    "    boundary_matrix = phat.boundary_matrix(\n",
    "        columns=columns , representation=phat.representations.sparse_pivot_column\n",
    "    )\n",
    "    pairs = boundary_matrix.compute_persistence_pairs()\n",
    "    pairs.sort()\n",
    "    \n",
    "    # compute persistence pairs (hide diagonals to make it easier to read)\n",
    "    dgms =  _process_distances(pairs, ordered_simplices,show_diag,cover)\n",
    "    for p in pairs:\n",
    "        print(p)\n",
    "    print(dgms)\n",
    "    dgms =  _add_unpaired(dgms, pairs, ordered_simplices,cover)\n",
    "    \n",
    "    #coverlabel2id = {\"0\":0,\"1\":1,\"01\":2 }\n",
    "    for dim,dgm in dgms.items(): \n",
    "        print('H%d'%dim,dgm )\n",
    "        plotbarcode_BC(dgms,dim,coverlabel2id )  \n",
    "    return dgms\n",
    "    "
   ]
  },
  {
   "cell_type": "markdown",
   "id": "0eecd20b-21d8-458f-b1b3-2a83f63fc5dc",
   "metadata": {},
   "source": [
    "## Example in the paper\n",
    "\n",
    "### 1.A linear chain with two covers \n",
    "\n",
    "```\n",
    "X:    0-1-2-3\n",
    "X0:   0-1-2  \n",
    "X1:     1-2-3\n",
    "X[1]:   1-2\n",
    "```\n",
    "The covers are glued by standard simplex $\\Delta^J$\n",
    "```\n",
    "D[1]:   0-1\n",
    "```\n",
    "Input simplicial complex are stored in `ordered_simplices` as $( \\sigma, t)$ pairs\n"
   ]
  },
  {
   "cell_type": "code",
   "execution_count": 22,
   "id": "85eeae8a-ccfa-4368-b963-bc4b70886c83",
   "metadata": {},
   "outputs": [
    {
     "name": "stdout",
     "output_type": "stream",
     "text": [
      "display h classes on diagonal\n",
      "(1, 3)\n",
      "(2, 4)\n",
      "(5, 10)\n",
      "(6, 8)\n",
      "(7, 9)\n",
      "(11, 12)\n",
      "{0: [[0, 0, '0'], [0, 0, '0'], [0, 1, '1'], [0, 0, '1'], [0, 0, '1']], 1: [[1, 1, '01']]}\n",
      "H0 [[0, 0, '0'], [0, 0, '0'], [0, 1, '1'], [0, 0, '1'], [0, 0, '1'], [0, inf, '0']]\n",
      "[[1, (0, 0)], [1, (0, 0)], [0, (0, 1)], [0, (0, 0)], [0, (0, 0)], [1, (0, inf)]]\n"
     ]
    },
    {
     "data": {
      "image/png": "[encoded data removed]",
      "text/plain": [
       "<Figure size 400x150 with 1 Axes>"
      ]
     },
     "metadata": {},
     "output_type": "display_data"
    },
    {
     "name": "stdout",
     "output_type": "stream",
     "text": [
      "H1 [[1, 1, '01']]\n",
      "[[2, (1, 1)]]\n"
     ]
    },
    {
     "data": {
      "image/png": "[encoded data removed]",
      "text/plain": [
       "<Figure size 400x150 with 1 Axes>"
      ]
     },
     "metadata": {},
     "output_type": "display_data"
    },
    {
     "data": {
      "text/plain": [
       "{0: [[0, 0, '0'],\n",
       "  [0, 0, '0'],\n",
       "  [0, 1, '1'],\n",
       "  [0, 0, '1'],\n",
       "  [0, 0, '1'],\n",
       "  [0, inf, '0']],\n",
       " 1: [[1, 1, '01']]}"
      ]
     },
     "execution_count": 22,
     "metadata": {},
     "output_type": "execute_result"
    }
   ],
   "source": [
    "# the actual labeling of simplies doesn't affect the computation\n",
    "# the important information is the dimension of simplices (sigma x delta) \n",
    "# and timestep t\n",
    "\n",
    "ordered_simplices =  [ ([0],0),([1],0),([2],0),([0,1],0),([1,2],0) , #X0xD0 \n",
    "                      ([1],0),([2],0),([3],0),([1,2],0),([2,3],0), #X1xD1 \n",
    "                      ([1,0],1),([2,0],1),([1,2,0 ],1)] # X[1]xD[1] pad zeros to fill up dimension\n",
    "\n",
    "# manually define the nonzero entries in the columns of boundary matrix  \n",
    "# TODO: construct automatically using the product boundary operator\n",
    "\n",
    "columns = [(0,[]), #0 [0]x[0]\n",
    "           (0,[]), #1 [1]x[0]\n",
    "           (0,[]), #2 [2]x[0]\n",
    "           (1,[0,1]), #3 [01]x[0]\n",
    "           (1,[1,2]), #4 [12]x[0]\n",
    "           (0,[]), #5 [1]x[1]\n",
    "           (0,[]), #6 [2]x[1]\n",
    "           (0,[]), #7 [3]x[1]\n",
    "           (1,[5,6]), #8 [12]x[1]\n",
    "           (1,[6,7]), #9 [23]x[1]\n",
    "           (1,[1,5]), #10 [1]x[01]\n",
    "           (1,[2,6]), #11 [2]x[01]\n",
    "           (2,[4,8,10,11])] #12 [12]x[01]\n",
    "\n",
    "cover = [  '0','0','0','0','0','1','1','1','1','1','1','01','01','01'] \n",
    "compute_blowup(ordered_simplices, columns,cover ,True) \n"
   ]
  },
  {
   "cell_type": "markdown",
   "id": "1eeb4b2d-65a6-4e05-bfae-af539c340302",
   "metadata": {},
   "source": [
    "### 2. Three triangles with two covers \n",
    "```\n",
    "  X:   1--3\n",
    "      / \\/ \\\n",
    "     0--2--4\n",
    " X0: (0,1,2,3)\n",
    " X1: (1,2,3,4)\n",
    " X[1]: (1,2,3)\n",
    "```\n",
    "The covers are glued by standard simplex $\\Delta^J=$   [0,1] "
   ]
  },
  {
   "cell_type": "code",
   "execution_count": 23,
   "id": "475422a6-e4c4-4643-8e3e-8b4de37db717",
   "metadata": {},
   "outputs": [
    {
     "name": "stdout",
     "output_type": "stream",
     "text": [
      "display h classes on diagonal\n",
      "(1, 4)\n",
      "(2, 5)\n",
      "(3, 7)\n",
      "(9, 18)\n",
      "(10, 13)\n",
      "(11, 14)\n",
      "(12, 16)\n",
      "(15, 23)\n",
      "(19, 21)\n",
      "(20, 22)\n",
      "{0: [[0, 0, '0'], [0, 0, '0'], [0, 0, '0'], [0, 1, '1'], [0, 0, '1'], [0, 0, '1'], [0, 0, '1']], 1: [[0, 1, '1'], [1, 1, '01'], [1, 1, '01']]}\n",
      "H0 [[0, 0, '0'], [0, 0, '0'], [0, 0, '0'], [0, 1, '1'], [0, 0, '1'], [0, 0, '1'], [0, 0, '1'], [0, inf, '0']]\n",
      "[[1, (0, 0)], [1, (0, 0)], [1, (0, 0)], [0, (0, 1)], [0, (0, 0)], [0, (0, 0)], [0, (0, 0)], [1, (0, inf)]]\n"
     ]
    },
    {
     "data": {
      "image/png": "[encoded data removed]",
      "text/plain": [
       "<Figure size 400x150 with 1 Axes>"
      ]
     },
     "metadata": {},
     "output_type": "display_data"
    },
    {
     "name": "stdout",
     "output_type": "stream",
     "text": [
      "H1 [[0, 1, '1'], [1, 1, '01'], [1, 1, '01'], [0, inf, '0'], [0, inf, '0'], [0, inf, '1']]\n",
      "[[0, (0, 1)], [2, (1, 1)], [2, (1, 1)], [1, (0, inf)], [1, (0, inf)], [0, (0, inf)]]\n"
     ]
    },
    {
     "data": {
      "image/png": "[encoded data removed]",
      "text/plain": [
       "<Figure size 400x150 with 1 Axes>"
      ]
     },
     "metadata": {},
     "output_type": "display_data"
    },
    {
     "data": {
      "text/plain": [
       "{0: [[0, 0, '0'],\n",
       "  [0, 0, '0'],\n",
       "  [0, 0, '0'],\n",
       "  [0, 1, '1'],\n",
       "  [0, 0, '1'],\n",
       "  [0, 0, '1'],\n",
       "  [0, 0, '1'],\n",
       "  [0, inf, '0']],\n",
       " 1: [[0, 1, '1'],\n",
       "  [1, 1, '01'],\n",
       "  [1, 1, '01'],\n",
       "  [0, inf, '0'],\n",
       "  [0, inf, '0'],\n",
       "  [0, inf, '1']]}"
      ]
     },
     "execution_count": 23,
     "metadata": {},
     "output_type": "execute_result"
    }
   ],
   "source": [
    "ordered_simplices=  [([0],0),([1],0),([2],0),([3],0),([0,1],0),([0,2],0),([1,2],0),([1,3],0),([2,3],0), #X0xD0 \n",
    "                      ([1],0),([2],0),([3],0),([4],0),([1,2],0),([1,3],0),([2,3],0),([2,4],0),([3,4],0), #X1xD1 \n",
    "                      ([1,0],1),([2,0],1),([3,0],1),([1,2,0],1),([1,3,0],1),([2,3,0],1)] # X[1]xD[1]\n",
    "columns = [(0,[]),  \n",
    "           (0,[]),  \n",
    "           (0,[]),  \n",
    "           (0,[]),\n",
    "           (1,[0,1]),  \n",
    "           (1,[0,2]),  \n",
    "           (1,[1,2]),  \n",
    "           (1,[1,3]),  \n",
    "           (1,[2,3]), \n",
    "           (0,[]),  \n",
    "           (0,[]),  \n",
    "           (0,[]),  \n",
    "           (0,[]), \n",
    "           (1,[9,10]), \n",
    "           (1,[9,11]), \n",
    "           (1,[10,11]), \n",
    "           (1,[10,12]),  \n",
    "           (1,[11,12]),  \n",
    "           \n",
    "           (1,[1,9]), \n",
    "           (1,[2,10]),  \n",
    "           (1,[3,11]),  \n",
    "           (2,[6,13,18,19]),  \n",
    "           (2,[7,14,18,20]),  \n",
    "           (2,[8,15,19,20])]  \n",
    "\n",
    "\n",
    "cover =   [ '0']*9 +[ '1']*9  + ['01']*6   # label simplices by their cover subset\n",
    "compute_blowup(ordered_simplices, columns,cover ,True)"
   ]
  },
  {
   "cell_type": "markdown",
   "id": "bcb9dee0-0a9f-408b-a8be-f68c7447c563",
   "metadata": {},
   "source": [
    "### 3. Two triangles with two covers \n",
    "\n",
    "```\n",
    " X:    1--3\n",
    "      / \\/ \n",
    "     0--2\n",
    " X0: (0,1,2)\n",
    " X1: (1,2,3)\n",
    " X[1]: (1,2)\n",
    "```\n"
   ]
  },
  {
   "cell_type": "code",
   "execution_count": 24,
   "id": "44657a22-ba1d-4aab-bd7e-822dbb0e02ee",
   "metadata": {},
   "outputs": [
    {
     "name": "stdout",
     "output_type": "stream",
     "text": [
      "display h classes on diagonal\n",
      "(1, 3)\n",
      "(2, 4)\n",
      "(6, 12)\n",
      "(7, 9)\n",
      "(8, 10)\n",
      "(13, 14)\n",
      "{0: [[0, 0, '0'], [0, 0, '0'], [0, 1, '1'], [0, 0, '1'], [0, 0, '1']], 1: [[1, 1, '01']]}\n",
      "H0 [[0, 0, '0'], [0, 0, '0'], [0, 1, '1'], [0, 0, '1'], [0, 0, '1'], [0, inf, '0']]\n",
      "[[1, (0, 0)], [1, (0, 0)], [0, (0, 1)], [0, (0, 0)], [0, (0, 0)], [1, (0, inf)]]\n"
     ]
    },
    {
     "data": {
      "image/png": "[encoded data removed]",
      "text/plain": [
       "<Figure size 400x150 with 1 Axes>"
      ]
     },
     "metadata": {},
     "output_type": "display_data"
    },
    {
     "name": "stdout",
     "output_type": "stream",
     "text": [
      "H1 [[1, 1, '01'], [0, inf, '0'], [0, inf, '1']]\n",
      "[[2, (1, 1)], [1, (0, inf)], [0, (0, inf)]]\n"
     ]
    },
    {
     "data": {
      "image/png": "[encoded data removed]",
      "text/plain": [
       "<Figure size 400x150 with 1 Axes>"
      ]
     },
     "metadata": {},
     "output_type": "display_data"
    },
    {
     "data": {
      "text/plain": [
       "{0: [[0, 0, '0'],\n",
       "  [0, 0, '0'],\n",
       "  [0, 1, '1'],\n",
       "  [0, 0, '1'],\n",
       "  [0, 0, '1'],\n",
       "  [0, inf, '0']],\n",
       " 1: [[1, 1, '01'], [0, inf, '0'], [0, inf, '1']]}"
      ]
     },
     "execution_count": 24,
     "metadata": {},
     "output_type": "execute_result"
    }
   ],
   "source": [
    "ordered_simplices =   [([0],0),([1],0),([2],0),([0,1],0),([0,2],0),([1,2],0), #X0xD0 \n",
    "                       ([1],0),([2],0),([3],0), ([1,2],0),([1,3],0),([2,3],0) , #X1xD1 \n",
    "                       ([1,0],1),([2,0],1), ([1,2,0],1) ] # X[1]xD[1]\n",
    "\n",
    "columns = [(0,[]),  \n",
    "           (0,[]),   \n",
    "           (0,[]),\n",
    "           (1,[0,1]),  \n",
    "           (1,[0,2]),  \n",
    "           (1,[1,2]),  \n",
    "           (0,[]),  \n",
    "           (0,[]),  \n",
    "           (0,[]),   \n",
    "           (1,[6,7]), \n",
    "           (1,[6,8]), \n",
    "           (1,[7,8]), \n",
    "           (1,[1,6]),  \n",
    "           (1,[2,7]),   \n",
    "           (2,[5,9,12,13])]  \n",
    "## Setup boundary matrix and reduce\n",
    "\n",
    "boundary_matrix = phat.boundary_matrix(\n",
    "    columns=columns , representation=phat.representations.sparse_pivot_column\n",
    ")\n",
    "pairs = boundary_matrix.compute_persistence_pairs()\n",
    "pairs.sort()\n",
    "\n",
    "\n",
    "\n",
    "## Setup persistence diagrams by reading off distances\n",
    "cover =   [ '0']*6 +[ '1']*6  + ['01']*3   # label simplices by their cover subset\n",
    "compute_blowup(ordered_simplices, columns,cover,True ) "
   ]
  },
  {
   "cell_type": "markdown",
   "id": "52a15637-967d-4ff4-b0c3-6223ddd28ae3",
   "metadata": {},
   "source": [
    "When the overlap is an edge, H0 is reduced by 1 at time t=1, but H1 is unchanged"
   ]
  },
  {
   "cell_type": "markdown",
   "id": "611cabbd-c9a6-48dc-8e33-6f872c4de32e",
   "metadata": {},
   "source": [
    "### 4. A single point covered by three sets  \n",
    "```\n",
    " X:    0 \n",
    " X0: (0)\n",
    " X1: (0)\n",
    " X2: (0)\n",
    " X[01]: (1)\n",
    " X[12]: (1)\n",
    " X[02]: (1) \n",
    " X[012]: (2) \n",
    "```"
   ]
  },
  {
   "cell_type": "code",
   "execution_count": 25,
   "id": "32e2492e-610b-43aa-a0e1-45b0e77b7a14",
   "metadata": {},
   "outputs": [
    {
     "name": "stdout",
     "output_type": "stream",
     "text": [
      "display h classes on diagonal\n",
      "(1, 3)\n",
      "(2, 4)\n",
      "(5, 6)\n",
      "{0: [[0, 1, '1'], [0, 1, '2']], 1: [[1, 2, '02']]}\n",
      "H0 [[0, 1, '1'], [0, 1, '2'], [0, inf, '0']]\n",
      "[[1, (0, 1)], [3, (0, 1)], [5, (0, inf)]]\n"
     ]
    },
    {
     "data": {
      "image/png": "[encoded data removed]",
      "text/plain": [
       "<Figure size 400x150 with 1 Axes>"
      ]
     },
     "metadata": {},
     "output_type": "display_data"
    },
    {
     "name": "stdout",
     "output_type": "stream",
     "text": [
      "H1 [[1, 2, '02']]\n",
      "[[0, (1, 2)]]\n"
     ]
    },
    {
     "data": {
      "image/png": "[encoded data removed]",
      "text/plain": [
       "<Figure size 400x150 with 1 Axes>"
      ]
     },
     "metadata": {},
     "output_type": "display_data"
    },
    {
     "data": {
      "text/plain": [
       "{0: [[0, 1, '1'], [0, 1, '2'], [0, inf, '0']], 1: [[1, 2, '02']]}"
      ]
     },
     "execution_count": 25,
     "metadata": {},
     "output_type": "execute_result"
    }
   ],
   "source": [
    "ordered_simplices =  [([0],0),([0],0) ,([0],0),  \n",
    "                      ([0,0],1),([0,0],1), ([0,0],1),([0,0,0],2)] # X[1]xD[1]\n",
    "\n",
    "columns = [(0,[]),  \n",
    "           (0,[]),  \n",
    "           (0,[]),    \n",
    "           (1,[0,1]), \n",
    "           (1,[1,2]),  \n",
    "           (1,[0,2]),   \n",
    "           (2,[3,4,5])      ]  \n",
    "## Setup boundary matrix and reduce\n",
    "boundary_matrix = phat.boundary_matrix(\n",
    "    columns=columns , representation=phat.representations.sparse_pivot_column\n",
    ")\n",
    "pairs = boundary_matrix.compute_persistence_pairs()\n",
    "pairs.sort()\n",
    "\n",
    "## Setup persistence diagrams by reading off distances\n",
    "cover =   [ '0','1','2','01','12','02','012']   \n",
    "compute_blowup(ordered_simplices, columns,cover, show_diag=True) "
   ]
  },
  {
   "cell_type": "markdown",
   "id": "e5dbded7-b295-46ea-ace0-9d723d6326aa",
   "metadata": {},
   "source": [
    "## Additional examples"
   ]
  },
  {
   "cell_type": "code",
   "execution_count": 26,
   "id": "7cb8ccfd-0cb5-4b50-b160-fa3f13191dc5",
   "metadata": {},
   "outputs": [
    {
     "name": "stdout",
     "output_type": "stream",
     "text": [
      "display h classes on diagonal\n",
      "(1, 2)\n",
      "(3, 9)\n",
      "(4, 5)\n",
      "(6, 10)\n",
      "(7, 8)\n",
      "(11, 12)\n",
      "{0: [[0, 0, '0'], [0, 1, '1'], [0, 0, '1'], [0, 1, '2'], [0, 0, '2']], 1: [[1, 2, '02']]}\n",
      "H0 [[0, 0, '0'], [0, 1, '1'], [0, 0, '1'], [0, 1, '2'], [0, 0, '2'], [0, inf, '0']]\n",
      "[[5, (0, 0)], [1, (0, 1)], [1, (0, 0)], [3, (0, 1)], [3, (0, 0)], [5, (0, inf)]]\n"
     ]
    },
    {
     "data": {
      "image/png": "[encoded data removed]",
      "text/plain": [
       "<Figure size 400x150 with 1 Axes>"
      ]
     },
     "metadata": {},
     "output_type": "display_data"
    },
    {
     "name": "stdout",
     "output_type": "stream",
     "text": [
      "H1 [[1, 2, '02']]\n",
      "[[0, (1, 2)]]\n"
     ]
    },
    {
     "data": {
      "image/png": "[encoded data removed]",
      "text/plain": [
       "<Figure size 400x150 with 1 Axes>"
      ]
     },
     "metadata": {},
     "output_type": "display_data"
    },
    {
     "data": {
      "text/plain": [
       "{0: [[0, 0, '0'],\n",
       "  [0, 1, '1'],\n",
       "  [0, 0, '1'],\n",
       "  [0, 1, '2'],\n",
       "  [0, 0, '2'],\n",
       "  [0, inf, '0']],\n",
       " 1: [[1, 2, '02']]}"
      ]
     },
     "execution_count": 26,
     "metadata": {},
     "output_type": "execute_result"
    }
   ],
   "source": [
    "# Example of computing the blowup chain complex of K with two covers \n",
    "# X:    0--1--2\n",
    "#          | \n",
    "#          3\n",
    "# X0: (0,1)\n",
    "# X1: (1,2)\n",
    "# X2: (1,2)\n",
    "# X[01]: (1)\n",
    "# X[12]: (1)\n",
    "# X[02]: (1) \n",
    "\n",
    "# the actual labeling of simplies doesn't affect the computation\n",
    "ordered_simplices =  [([0],0),([1],0), ([0,1],0), #X0xD0 \n",
    "                      ([1],0),([2],0), ([1,2],0) , #X1xD1 \n",
    "                      ([1],0),([3],0), ([1,3],0),\n",
    "                      ([1,0],1),([1,0],1), ([1,0],1),([1,0,0],2)] # X[1]xD[1]\n",
    "\n",
    "columns = [(0,[]),  \n",
    "           (0,[]),   \n",
    "           (1,[0,1]), \n",
    "           (0,[]),  \n",
    "           (0,[]),   \n",
    "           (1,[3,4]),  \n",
    "           (0,[]),  \n",
    "           (0,[]),   \n",
    "           (1,[6,7]), \n",
    "           (1,[1,3]),  \n",
    "           (1,[1,6]),   \n",
    "           (1,[3,6]),   \n",
    "           (2,[9,10,11])]   \n",
    "\n",
    "## Setup persistence diagrams by reading off distances\n",
    "cover =   [ '0']*3 +[ '1']*3 +[ '2']*3  + ['01','12','02','012' ]   # label simplices by their cover subset\n",
    "compute_blowup(ordered_simplices , columns,cover ,True) \n",
    "\n"
   ]
  },
  {
   "cell_type": "code",
   "execution_count": 27,
   "id": "9f7fcf26-ef58-435b-bd4d-fbaa728896d5",
   "metadata": {},
   "outputs": [
    {
     "name": "stdout",
     "output_type": "stream",
     "text": [
      "display h classes on diagonal\n",
      "(1, 4)\n",
      "(2, 5)\n",
      "(3, 6)\n",
      "(7, 21)\n",
      "(8, 11)\n",
      "(9, 12)\n",
      "(10, 13)\n",
      "(14, 24)\n",
      "(15, 18)\n",
      "(16, 20)\n",
      "(17, 19)\n",
      "(22, 23)\n",
      "(25, 26)\n",
      "(28, 29)\n",
      "{0: [[0, 0, '0'], [0, 0, '0'], [0, 0, '0'], [0, 1, '1'], [0, 0, '1'], [0, 0, '1'], [0, 0, '1'], [0, 1, '2'], [0, 0, '2'], [0, 0, '2'], [0, 0, '2']], 1: [[1, 1, '01'], [1, 1, '02'], [1, 1, '12']]}\n",
      "H0 [[0, 0, '0'], [0, 0, '0'], [0, 0, '0'], [0, 1, '1'], [0, 0, '1'], [0, 0, '1'], [0, 0, '1'], [0, 1, '2'], [0, 0, '2'], [0, 0, '2'], [0, 0, '2'], [0, inf, '0']]\n",
      "[[5, (0, 0)], [5, (0, 0)], [5, (0, 0)], [1, (0, 1)], [1, (0, 0)], [1, (0, 0)], [1, (0, 0)], [3, (0, 1)], [3, (0, 0)], [3, (0, 0)], [3, (0, 0)], [5, (0, inf)]]\n"
     ]
    },
    {
     "data": {
      "image/png": "[encoded data removed]",
      "text/plain": [
       "<Figure size 400x150 with 1 Axes>"
      ]
     },
     "metadata": {},
     "output_type": "display_data"
    },
    {
     "name": "stdout",
     "output_type": "stream",
     "text": [
      "H1 [[1, 1, '01'], [1, 1, '02'], [1, 1, '12'], [1, inf, '12']]\n",
      "[[4, (1, 1)], [0, (1, 1)], [2, (1, 1)], [2, (1, inf)]]\n"
     ]
    },
    {
     "data": {
      "image/png": "[encoded data removed]",
      "text/plain": [
       "<Figure size 400x150 with 1 Axes>"
      ]
     },
     "metadata": {},
     "output_type": "display_data"
    },
    {
     "data": {
      "text/plain": [
       "{0: [[0, 0, '0'],\n",
       "  [0, 0, '0'],\n",
       "  [0, 0, '0'],\n",
       "  [0, 1, '1'],\n",
       "  [0, 0, '1'],\n",
       "  [0, 0, '1'],\n",
       "  [0, 0, '1'],\n",
       "  [0, 1, '2'],\n",
       "  [0, 0, '2'],\n",
       "  [0, 0, '2'],\n",
       "  [0, 0, '2'],\n",
       "  [0, inf, '0']],\n",
       " 1: [[1, 1, '01'], [1, 1, '02'], [1, 1, '12'], [1, inf, '12']]}"
      ]
     },
     "execution_count": 27,
     "metadata": {},
     "output_type": "execute_result"
    }
   ],
   "source": [
    " \n",
    "# Example of computing the blowup chain complex of K with two covers \n",
    "# X:    0--1--2\n",
    "#       |     |\n",
    "#       5--4--3\n",
    "# X0: (0,1,2,3)\n",
    "# X1: ( 2,3,4,5)\n",
    "# X2: (0,1,4,5)\n",
    "# X[01]: (2,3)\n",
    "# X[02]:(0,1)\n",
    "# X[12]:(4,5)\n",
    "# X[012]:()\n",
    "\n",
    "\n",
    "# the actual labeling of simplies doesn't affect the computation\n",
    "ordered_simplices =  [([0],0),([1],0),([2],0),([3],0),([0,1],0),([1,2],0),([2,3],0),  \n",
    "                      ([2],0),([3],0),([4],0),([5],0) ,([2,3],0),([3,4],0),([4,5],0) ,   \n",
    "                      ([0],0),([1],0),([4],0),([5],0),([0,1],0),([0,5],0),([4,5],0),\n",
    "                      ([2,0],1),([3,0],1), ([2,3,0],1) ,  \n",
    "                      ([4,0],1),([5,0],1), ([4,5,0],1) ,\n",
    "                      ([0,0],1),([1,0],1), ([0,1,0],1) ]  \n",
    "                    \n",
    "columns = [(0,[]),  \n",
    "           (0,[]),   \n",
    "           (0,[]),  \n",
    "           (0,[]),\n",
    "           (1,[0,1]),  \n",
    "           (1,[1,2]),  \n",
    "           (1,[2,3]),  \n",
    "           (0,[]),  \n",
    "           (0,[]),  \n",
    "           (0,[]),  \n",
    "           (0,[]),    \n",
    "           (1,[7,8]), \n",
    "           (1,[8,9]), \n",
    "           (1,[9,10]), \n",
    "           (0,[]),  \n",
    "           (0,[]),  \n",
    "           (0,[]),  \n",
    "           (0,[]),    \n",
    "           (1,[14,15]), \n",
    "           (1,[14,17]), \n",
    "           (1,[16,17]), \n",
    "           (1,[2,7]), \n",
    "           (1,[3,8]),  \n",
    "           (2,[6,11,21,22]),\n",
    "           (1,[9,16]), \n",
    "           (1,[10,17]),  \n",
    "           (2,[13,20,24,25]),\n",
    "           (1,[0,14]), \n",
    "           (1,[1,15]),  \n",
    "           (2,[4,18,27,28]) ]  \n",
    "\n",
    "## Setup persistence diagrams by reading off distances\n",
    "cover =   [ '0']*7 +[ '1']*7+[ '2']*7 + ['01']*3 +['02']*3+['12']*3    # label simplices by their cover subset\n",
    "compute_blowup(ordered_simplices , columns,cover,True ) \n"
   ]
  },
  {
   "cell_type": "code",
   "execution_count": null,
   "id": "445f8d10-4f54-442a-a26d-6d717aae096d",
   "metadata": {},
   "outputs": [],
   "source": []
  },
  {
   "cell_type": "code",
   "execution_count": null,
   "id": "57dcf8af-6df5-4d6d-aed5-9e7ce48bf49c",
   "metadata": {},
   "outputs": [],
   "source": []
  },
  {
   "cell_type": "code",
   "execution_count": null,
   "id": "844eab73-91e0-408b-8114-3f4bfd2f1a34",
   "metadata": {},
   "outputs": [],
   "source": []
  },
  {
   "cell_type": "code",
   "execution_count": null,
   "id": "3bf6a9e6-8638-400f-a898-a647e8c20a0f",
   "metadata": {},
   "outputs": [],
   "source": []
  }
 ],
 "metadata": {
  "kernelspec": {
   "display_name": "Python 3 (ipykernel)",
   "language": "python",
   "name": "python3"
  },
  "language_info": {
   "codemirror_mode": {
    "name": "ipython",
    "version": 3
   },
   "file_extension": ".py",
   "mimetype": "text/x-python",
   "name": "python",
   "nbconvert_exporter": "python",
   "pygments_lexer": "ipython3",
   "version": "3.10.9"
  }
 },
 "nbformat": 4,
 "nbformat_minor": 5
}
