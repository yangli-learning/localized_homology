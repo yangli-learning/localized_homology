{
 "cells": [
  {
   "cell_type": "markdown",
   "id": "4dedbf5b-be0b-49ee-9ad1-065310461a76",
   "metadata": {},
   "source": [
    "# computing boundary matrix from blowup chain complex\n",
    "First define the blowup chain complex from a simplicial cover.\n",
    "Then we compute the boundaries of each simplex in the blowup chain complex  \n",
    "\n"
   ]
  },
  {
   "cell_type": "markdown",
   "id": "1b54b374-98eb-4c69-8209-89976e79c082",
   "metadata": {},
   "source": [
    "## Data structure\n",
    "The blowup chain complex is a direct product of simplicial complex $X^J$ and $\\Delta^J$\n",
    "Each simplex is a pair $(\\sigma,\\delta)$ where $\\sigma\\in X^J$ and $\\delta\\in\\Delta^J$"
   ]
  },
  {
   "cell_type": "code",
   "execution_count": 167,
   "id": "d4063d3e-d3e3-4a93-889b-afbfba15ceaf",
   "metadata": {},
   "outputs": [],
   "source": [
    "class ProductSimplex:\n",
    "    def __init__(self, sigma,delta,id=0):\n",
    "        self.sigma =  sigma  \n",
    "        self.delta  =  delta  \n",
    "        self.id = id\n",
    "        self.dim_s = max(len(self.sigma)-1,0) \n",
    "        self.dim_d = max(len(self.delta)-1,0)\n",
    "        self.dim = self.dim_s +  self.dim_d \n",
    "        self.boundary=[] \n",
    "        \n",
    "    def print(self):\n",
    "        print( \"id=\",self.id,\"simplex=\",(self.sigma,self.delta), \"dim=\",self.dim)\n",
    "        if self.boundary:\n",
    "            print(\"boundary:\",self.boundary)\n",
    "            \n",
    "    def to_ordered_simplex(self):\n",
    "        simplex = self.sigma if len(self.sigma)==self.dim+1 else self.sigma + [0]*(self.dim+1-len(self.sigma)) # append zeros\n",
    "        return (simplex, self.dim_d)"
   ]
  },
  {
   "cell_type": "code",
   "execution_count": 168,
   "id": "dfe3b688-b474-458d-81c3-68f9060d9438",
   "metadata": {},
   "outputs": [
    {
     "name": "stdout",
     "output_type": "stream",
     "text": [
      "id= 0 simplex= ([0, 1], [0, 1]) dim= 2\n",
      "([0, 1], 0)\n",
      "([0, 0], 1)\n",
      "([0, 1, 0], 1)\n",
      "([1, 0, 0], 2)\n"
     ]
    }
   ],
   "source": [
    "ProductSimplex([0,1],[0,1]).print()\n",
    "# test dimension padding\n",
    "print(ProductSimplex([0,1],[0]).to_ordered_simplex())\n",
    "print(ProductSimplex([0],[0,1]).to_ordered_simplex())\n",
    "print(ProductSimplex([0,1],[0,1]).to_ordered_simplex())\n",
    "print(ProductSimplex([1],[0,1,2]).to_ordered_simplex())\n"
   ]
  },
  {
   "cell_type": "markdown",
   "id": "72e963ac-a28f-42f8-960a-5e860f07a221",
   "metadata": {},
   "source": [
    "## Helper functions"
   ]
  },
  {
   "cell_type": "code",
   "execution_count": 169,
   "id": "93fbc785-af29-43c6-be94-eaab62f9d865",
   "metadata": {},
   "outputs": [],
   "source": [
    "\n",
    "def make_standard_simplex(n):\n",
    "    # standard simplex Delta^J \n",
    "    # Delta^J  = [ ([0],0), ([1],0),([0,1],1) ]\n",
    "    D_J = [] \n",
    "    for i in range(n):\n",
    "        c = list(itertools.combinations(range(n),i+1)) \n",
    "        D_J = D_J + [   list(s)   for s in c]  \n",
    "    return D_J\n"
   ]
  },
  {
   "cell_type": "code",
   "execution_count": 170,
   "id": "8d9c04b6-e576-46bb-bb48-b553393b2a5d",
   "metadata": {},
   "outputs": [],
   "source": [
    "def simplicial_product(complex, delta,i_start):\n",
    "    # e.g. complex = [[1], [2], [1, 2]]   # detla=[0,1]\n",
    "    # resulting productsimplex are \n",
    "    # ProductSimplex([1],[0,1]), ProductSimplex([2],[0,1]),ProductSimplex([1,2],[0,1]) \n",
    "\n",
    "    return [ProductSimplex(sigma,delta,i+i_start) for i, sigma in enumerate(complex)] "
   ]
  },
  {
   "cell_type": "code",
   "execution_count": 171,
   "id": "5cbdb8b2-2ef3-411c-8a5d-a45acf721504",
   "metadata": {},
   "outputs": [],
   "source": [
    "def subset_intersection(list_of_complexes): \n",
    "    # compute intersection of a list of simplicial covers\n",
    "    sets = []\n",
    "    for CP in list_of_complexes: \n",
    "        sets.append(  set([tuple(sigma) for sigma in CP]))\n",
    "    intersection = set.intersection(*sets) \n",
    "    # sort by simplex dimension, then by simplex id\n",
    "    intersection  = sorted(intersection, key=lambda x: (len(x ) , x[0] )) \n",
    "    \n",
    "    return [list(t) for t in intersection]\n"
   ]
  },
  {
   "cell_type": "markdown",
   "id": "198eb50b-7da2-4a76-860c-6914f500a071",
   "metadata": {},
   "source": [
    "# BlowupComplex\n",
    "\n",
    "Expernal Function:\n",
    "- BlowupComplex(simplicial_cover): build blowup complex\n",
    "- compute_persistence(): compute and visualize the persistence barcode\n",
    "- print_complex(): print out information of the blowup complex\n",
    "  \n",
    "Internal Functions:\n",
    "- construct_from_cover(): construct blowup complex $X^U$ as a direct product \n",
    "- compute_boundary_delta(D_J): compute boundary of $\\Delta^J$\n",
    "- compute_boundary(D_J,B_delta): compute boundary of blowup complex $X^U$\n"
   ]
  },
  {
   "cell_type": "code",
   "execution_count": 232,
   "id": "3a4226ca-8e95-4bac-95f5-d7e73ad05746",
   "metadata": {},
   "outputs": [],
   "source": [
    "class BlowupComplex():\n",
    "    def __init__(self, simplicial_cover):\n",
    "        self.U = simplicial_cover  \n",
    "        self.X_U = []   # list of lists of ProductSimplex (to do : make it iterable)\n",
    "        self._construct_from_cover()\n",
    "        \n",
    "    def print_complex(self):\n",
    "        # display the constructed blowup complex X_U\n",
    "        for X_U_t in self.X_U: \n",
    "            for sp in X_U_t:\n",
    "                sp.print()\n",
    "\n",
    "    \n",
    "    def _construct_from_cover(self): \n",
    "        i_start=0\n",
    "        D_J  = make_standard_simplex(len(self.U)) \n",
    "        for delta in D_J:\n",
    "            \n",
    "            X_J = subset_intersection([ self.U[d] for d in delta])  \n",
    "            X_U_t = simplicial_product(X_J,delta,i_start)\n",
    "            i_start += len(X_U_t)\n",
    "            self.X_U.append( X_U_t  )\n",
    "        \n",
    "        # map simplex tuples to global id\n",
    "        flattened_list =[ ( tuple(sp.sigma),tuple(sp.delta) )  for i in range(len(D_J)) for sp in self.X_U[i]]\n",
    "        self.sp_to_id  = dict( [(sp,i) for i,sp in enumerate(flattened_list)])\n",
    "\n",
    "        B_delta  = self._compute_boundary_delta(D_J) \n",
    "        print(B_delta)\n",
    "        self._compute_boundary(D_J,B_delta)\n",
    "        \n",
    "\n",
    "    def _compute_boundary_delta(self,D_J):\n",
    "        ordered_simplex_delta =  [  ( delta, len(delta)-1) for delta in D_J]  \n",
    "        B_delta = cm.solver._simplices_to_sparse_pivot_column(ordered_simplex_delta ,False)\n",
    "        return B_delta\n",
    "\n",
    "    \n",
    "    def _compute_boundary(self,D_J,B_delta ):\n",
    "        for t,delta in enumerate(D_J): \n",
    "            \n",
    "            # construct a filtration on Xi\n",
    "            # fill in block diagonal boundary matrix by using builtin boundary operator\n",
    "            ordered_simplex = [  ( sp.sigma, sp.dim_d) for sp in self.X_U[t] ]\n",
    "            B = cm.solver._simplices_to_sparse_pivot_column(ordered_simplex ,False)\n",
    "            \n",
    "            for i,sp in enumerate(self.X_U[t]): \n",
    "                sp.boundary = [self.X_U[t][j].id for j in B[i][1]] \n",
    "            \n",
    "            # fill in the upper triangular area for deltas with non-empty boundary\n",
    "            if len(delta)>1: \n",
    "                for sp in self.X_U[t]: \n",
    "                    dim,boundary_delta  = B_delta[t] \n",
    "                    \n",
    "                    #[2,3]x [0,1] -> [2,3]x[0], [2,3]x[1]\n",
    "                    for tt in boundary_delta: \n",
    "                        boundary_delta_simplex = D_J[tt] \n",
    "                        sp.boundary.append(  self.sp_to_id[  (tuple(sp.sigma), tuple(  boundary_delta_simplex   ))]) \n",
    "                    \n",
    "            for sp in self.X_U[t]:\n",
    "                sp.boundary = sorted(sp.boundary,key=lambda x: (  x  ))\n",
    "                \n",
    "    \n",
    "    def compute_persistence(self,verbose=False):\n",
    "        # convert simplices and boundary to the column format for persistence\n",
    "        ordered_simplices = [sp.to_ordered_simplex()   for X_U_T in self.X_U  for sp in  X_U_T   ]  \n",
    "        if verbose:\n",
    "            print('simplices',ordered_simplices)\n",
    "        \n",
    "        columns = [ (sp.dim, sp.boundary )    for X_U_T in self.X_U for sp in  X_U_T]  \n",
    "\n",
    "        if verbose:\n",
    "            print('boundary columns')\n",
    "            for col in columns:\n",
    "                print(col)\n",
    "        # for coloring localized cycles\n",
    "        cover = [ ''.join([str(s) for s in sp.delta ])  for X_U_T in self.X_U  for sp in  X_U_T   ]  \n",
    "        if verbose:\n",
    "            print('cover',cover)\n",
    "        self.dgms = compute_blowup(ordered_simplices, columns,cover, show_diag=True) "
   ]
  },
  {
   "cell_type": "markdown",
   "id": "4383a66f-bbee-4730-b855-8f2a17127def",
   "metadata": {},
   "source": [
    "## Construct blowup simplex"
   ]
  },
  {
   "cell_type": "code",
   "execution_count": 234,
   "id": "e89710b9-ba03-47f1-87b3-c0ac182dbb48",
   "metadata": {},
   "outputs": [
    {
     "name": "stdout",
     "output_type": "stream",
     "text": [
      "[(0, []), (0, []), (1, [0, 1])]\n",
      "simplices [([0], 0), ([1], 0), ([2], 0), ([0, 1], 0), ([1, 2], 0), ([1], 0), ([2], 0), ([3], 0), ([1, 2], 0), ([2, 3], 0), ([1, 0], 1), ([2, 0], 1), ([1, 2, 0], 1)]\n",
      "boundary columns\n",
      "(0, [])\n",
      "(0, [])\n",
      "(0, [])\n",
      "(1, [0, 1])\n",
      "(1, [1, 2])\n",
      "(0, [])\n",
      "(0, [])\n",
      "(0, [])\n",
      "(1, [5, 6])\n",
      "(1, [6, 7])\n",
      "(1, [1, 5])\n",
      "(1, [2, 6])\n",
      "(2, [4, 8, 10, 11])\n",
      "cover ['0', '0', '0', '0', '0', '1', '1', '1', '1', '1', '01', '01', '01']\n",
      "display h classes on diagonal\n",
      "(1, 3)\n",
      "(2, 4)\n",
      "(5, 10)\n",
      "(6, 8)\n",
      "(7, 9)\n",
      "(11, 12)\n",
      "{0: [[0, 0, '0'], [0, 0, '0'], [0, 1, '1'], [0, 0, '1'], [0, 0, '1']], 1: [[1, 1, '01']]}\n",
      "H0 [[0, 0, '0'], [0, 0, '0'], [0, 1, '1'], [0, 0, '1'], [0, 0, '1'], [0, inf, '0']]\n",
      "[[2, (0, 0)], [2, (0, 0)], [0, (0, 1)], [0, (0, 0)], [0, (0, 0)], [2, (0, inf)]]\n"
     ]
    },
    {
     "data": {
      "image/png": "[encoded data removed]",
      "text/plain": [
       "<Figure size 400x150 with 1 Axes>"
      ]
     },
     "metadata": {},
     "output_type": "display_data"
    },
    {
     "name": "stdout",
     "output_type": "stream",
     "text": [
      "H1 [[1, 1, '01']]\n",
      "[[1, (1, 1)]]\n"
     ]
    },
    {
     "data": {
      "image/png": "[encoded data removed]",
      "text/plain": [
       "<Figure size 400x150 with 1 Axes>"
      ]
     },
     "metadata": {},
     "output_type": "display_data"
    }
   ],
   "source": [
    "# first construct the product simplicial complex\n",
    "\n",
    "X0 = [[0], [1],[2],[0,1],[1,2]]\n",
    "X1 = [[1],[2], [3], [1,2],[2,3]]   \n",
    "\n",
    "blowup = BlowupComplex([X0,X1])\n",
    "\n",
    "#blowup.print_complex()\n",
    "blowup.compute_persistence(verbose=True)\n"
   ]
  },
  {
   "cell_type": "code",
   "execution_count": 229,
   "id": "c7100483-d311-45c7-ae98-1a50ffddc41a",
   "metadata": {},
   "outputs": [
    {
     "name": "stdout",
     "output_type": "stream",
     "text": [
      "D_J [[0], [1], [0, 1]]\n",
      "simplex to id map: {((0,), (0,)): 0, ((1,), (0,)): 1, ((2,), (0,)): 2, ((3,), (0,)): 3, ((0, 1), (0,)): 4, ((0, 2), (0,)): 5, ((1, 3), (0,)): 6, ((1, 2), (0,)): 7, ((2, 3), (0,)): 8, ((1,), (1,)): 9, ((2,), (1,)): 10, ((3,), (1,)): 11, ((4,), (1,)): 12, ((1, 3), (1,)): 13, ((1, 2), (1,)): 14, ((2, 4), (1,)): 15, ((2, 3), (1,)): 16, ((3, 4), (1,)): 17, ((1,), (0, 1)): 18, ((2,), (0, 1)): 19, ((3,), (0, 1)): 20, ((1, 2), (0, 1)): 21, ((1, 3), (0, 1)): 22, ((2, 3), (0, 1)): 23}\n",
      "[(0, []), (0, []), (1, [0, 1])]\n",
      "------t= 0 delta= [0] ----------\n",
      "id= 0 simplex= ([0], [0]) dim= 0\n",
      "id= 1 simplex= ([1], [0]) dim= 0\n",
      "id= 2 simplex= ([2], [0]) dim= 0\n",
      "id= 3 simplex= ([3], [0]) dim= 0\n",
      "id= 4 simplex= ([0, 1], [0]) dim= 1\n",
      "boundary: [0, 1]\n",
      "id= 5 simplex= ([0, 2], [0]) dim= 1\n",
      "boundary: [0, 2]\n",
      "id= 6 simplex= ([1, 3], [0]) dim= 1\n",
      "boundary: [1, 3]\n",
      "id= 7 simplex= ([1, 2], [0]) dim= 1\n",
      "boundary: [1, 2]\n",
      "id= 8 simplex= ([2, 3], [0]) dim= 1\n",
      "boundary: [2, 3]\n",
      "------t= 1 delta= [1] ----------\n",
      "id= 9 simplex= ([1], [1]) dim= 0\n",
      "id= 10 simplex= ([2], [1]) dim= 0\n",
      "id= 11 simplex= ([3], [1]) dim= 0\n",
      "id= 12 simplex= ([4], [1]) dim= 0\n",
      "id= 13 simplex= ([1, 3], [1]) dim= 1\n",
      "boundary: [9, 11]\n",
      "id= 14 simplex= ([1, 2], [1]) dim= 1\n",
      "boundary: [9, 10]\n",
      "id= 15 simplex= ([2, 4], [1]) dim= 1\n",
      "boundary: [10, 12]\n",
      "id= 16 simplex= ([2, 3], [1]) dim= 1\n",
      "boundary: [10, 11]\n",
      "id= 17 simplex= ([3, 4], [1]) dim= 1\n",
      "boundary: [11, 12]\n",
      "------t= 2 delta= [0, 1] ----------\n",
      "[0]\n",
      "[1]\n",
      "[0]\n",
      "[1]\n",
      "[0]\n",
      "[1]\n",
      "[0]\n",
      "[1]\n",
      "[0]\n",
      "[1]\n",
      "[0]\n",
      "[1]\n",
      "id= 18 simplex= ([1], [0, 1]) dim= 1\n",
      "boundary: [1, 9]\n",
      "id= 19 simplex= ([2], [0, 1]) dim= 1\n",
      "boundary: [2, 10]\n",
      "id= 20 simplex= ([3], [0, 1]) dim= 1\n",
      "boundary: [3, 11]\n",
      "id= 21 simplex= ([1, 2], [0, 1]) dim= 2\n",
      "boundary: [7, 14, 18, 19]\n",
      "id= 22 simplex= ([1, 3], [0, 1]) dim= 2\n",
      "boundary: [6, 13, 18, 20]\n",
      "id= 23 simplex= ([2, 3], [0, 1]) dim= 2\n",
      "boundary: [8, 16, 19, 20]\n",
      "display h classes on diagonal\n",
      "(1, 4)\n",
      "(2, 5)\n",
      "(3, 6)\n",
      "(9, 18)\n",
      "(10, 14)\n",
      "(11, 13)\n",
      "(12, 15)\n",
      "(16, 23)\n",
      "(19, 21)\n",
      "(20, 22)\n",
      "{0: [[0, 0, '0'], [0, 0, '0'], [0, 0, '0'], [0, 1, '1'], [0, 0, '1'], [0, 0, '1'], [0, 0, '1']], 1: [[0, 1, '1'], [1, 1, '01'], [1, 1, '01']]}\n",
      "H0 [[0, 0, '0'], [0, 0, '0'], [0, 0, '0'], [0, 1, '1'], [0, 0, '1'], [0, 0, '1'], [0, 0, '1'], [0, inf, '0']]\n",
      "[[2, (0, 0)], [2, (0, 0)], [2, (0, 0)], [0, (0, 1)], [0, (0, 0)], [0, (0, 0)], [0, (0, 0)], [2, (0, inf)]]\n"
     ]
    },
    {
     "data": {
      "image/png": "[encoded data removed]",
      "text/plain": [
       "<Figure size 400x150 with 1 Axes>"
      ]
     },
     "metadata": {},
     "output_type": "display_data"
    },
    {
     "name": "stdout",
     "output_type": "stream",
     "text": [
      "H1 [[0, 1, '1'], [1, 1, '01'], [1, 1, '01'], [0, inf, '0'], [0, inf, '0'], [0, inf, '1']]\n",
      "[[0, (0, 1)], [1, (1, 1)], [1, (1, 1)], [2, (0, inf)], [2, (0, inf)], [0, (0, inf)]]\n"
     ]
    },
    {
     "data": {
      "image/png": "[encoded data removed]",
      "text/plain": [
       "<Figure size 400x150 with 1 Axes>"
      ]
     },
     "metadata": {},
     "output_type": "display_data"
    }
   ],
   "source": [
    "\n",
    "\n",
    "\n",
    "X0 =  [[0], [1], [2], [3], [0,1],[0,2],[1,2],[1,3], [2,3]]\n",
    "X1 =  [[1], [2], [3],[4],[1,2],[1,3],[2,3],[2,4],[3,4]]\n",
    "\n",
    "blowup = BlowupComplex([X0,X1])\n",
    "blowup.compute_persistence()\n",
    "\n"
   ]
  },
  {
   "cell_type": "code",
   "execution_count": 235,
   "id": "d80561b5-375d-4d8a-834b-9d9d1796159f",
   "metadata": {},
   "outputs": [
    {
     "name": "stdout",
     "output_type": "stream",
     "text": [
      "[(0, []), (0, []), (0, []), (1, [0, 1]), (1, [0, 2]), (1, [1, 2]), (2, [3, 4, 5])]\n",
      "display h classes on diagonal\n",
      "(1, 3)\n",
      "(2, 4)\n",
      "(5, 6)\n",
      "{0: [[0, 1, '1'], [0, 1, '2']], 1: [[1, 2, '12']]}\n",
      "H0 [[0, 1, '1'], [0, 1, '2'], [0, inf, '0']]\n",
      "[[5, (0, 1)], [0, (0, 1)], [4, (0, inf)]]\n"
     ]
    },
    {
     "data": {
      "image/png": "[encoded data removed]",
      "text/plain": [
       "<Figure size 400x150 with 1 Axes>"
      ]
     },
     "metadata": {},
     "output_type": "display_data"
    },
    {
     "name": "stdout",
     "output_type": "stream",
     "text": [
      "H1 [[1, 2, '12']]\n",
      "[[2, (1, 2)]]\n"
     ]
    },
    {
     "data": {
      "image/png": "[encoded data removed]",
      "text/plain": [
       "<Figure size 400x150 with 1 Axes>"
      ]
     },
     "metadata": {},
     "output_type": "display_data"
    }
   ],
   "source": [
    "X0 =  [ [0] ]\n",
    "X1 = [[0] ]\n",
    "X2 = [[0] ]\n",
    "                     \n",
    "\n",
    "blowup = BlowupComplex([X0,X1,X2])\n",
    "blowup.compute_persistence()\n"
   ]
  },
  {
   "cell_type": "code",
   "execution_count": 236,
   "id": "0470b917-d1db-44aa-a1ed-c2b314952e45",
   "metadata": {},
   "outputs": [
    {
     "name": "stdout",
     "output_type": "stream",
     "text": [
      "[(0, []), (0, []), (0, []), (1, [0, 1]), (1, [0, 2]), (1, [1, 2]), (2, [3, 4, 5])]\n",
      "display h classes on diagonal\n",
      "(1, 4)\n",
      "(2, 5)\n",
      "(3, 6)\n",
      "(7, 21)\n",
      "(8, 11)\n",
      "(9, 12)\n",
      "(10, 13)\n",
      "(14, 24)\n",
      "(15, 18)\n",
      "(16, 20)\n",
      "(17, 19)\n",
      "(22, 23)\n",
      "(25, 26)\n",
      "(28, 29)\n",
      "{0: [[0, 0, '0'], [0, 0, '0'], [0, 0, '0'], [0, 1, '1'], [0, 0, '1'], [0, 0, '1'], [0, 0, '1'], [0, 1, '2'], [0, 0, '2'], [0, 0, '2'], [0, 0, '2']], 1: [[1, 1, '01'], [1, 1, '02'], [1, 1, '12']]}\n",
      "H0 [[0, 0, '0'], [0, 0, '0'], [0, 0, '0'], [0, 1, '1'], [0, 0, '1'], [0, 0, '1'], [0, 0, '1'], [0, 1, '2'], [0, 0, '2'], [0, 0, '2'], [0, 0, '2'], [0, inf, '0']]\n",
      "[[3, (0, 0)], [3, (0, 0)], [3, (0, 0)], [4, (0, 1)], [4, (0, 0)], [4, (0, 0)], [4, (0, 0)], [0, (0, 1)], [0, (0, 0)], [0, (0, 0)], [0, (0, 0)], [3, (0, inf)]]\n"
     ]
    },
    {
     "data": {
      "image/png": "[encoded data removed]",
      "text/plain": [
       "<Figure size 400x150 with 1 Axes>"
      ]
     },
     "metadata": {},
     "output_type": "display_data"
    },
    {
     "name": "stdout",
     "output_type": "stream",
     "text": [
      "H1 [[1, 1, '01'], [1, 1, '02'], [1, 1, '12'], [1, inf, '12']]\n",
      "[[1, (1, 1)], [5, (1, 1)], [2, (1, 1)], [2, (1, inf)]]\n"
     ]
    },
    {
     "data": {
      "image/png": "[encoded data removed]",
      "text/plain": [
       "<Figure size 400x150 with 1 Axes>"
      ]
     },
     "metadata": {},
     "output_type": "display_data"
    }
   ],
   "source": [
    " \n",
    "X0= [[0],[1],[2],[3],[0,1],[1,2],[2,3]]  \n",
    "X1=[[2],[3],[4],[5] ,[2,3],[3,4],[4,5]]   \n",
    "X2= [[0],[1],[4],[5],[0,1],[0,5],[4,5]]\n",
    "\n",
    "blowup = BlowupComplex([X0,X1,X2])\n",
    "blowup.compute_persistence()"
   ]
  }
 ],
 "metadata": {
  "kernelspec": {
   "display_name": "Python 3 (ipykernel)",
   "language": "python",
   "name": "python3"
  },
  "language_info": {
   "codemirror_mode": {
    "name": "ipython",
    "version": 3
   },
   "file_extension": ".py",
   "mimetype": "text/x-python",
   "name": "python",
   "nbconvert_exporter": "python",
   "pygments_lexer": "ipython3",
   "version": "3.10.9"
  }
 },
 "nbformat": 4,
 "nbformat_minor": 5
}
